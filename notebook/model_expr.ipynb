{
 "cells": [
  {
   "cell_type": "code",
   "execution_count": null,
   "id": "35f0ee2d",
   "metadata": {},
   "outputs": [],
   "source": [
    "from utils import "
   ]
  },
  {
   "cell_type": "code",
   "execution_count": null,
   "id": "fb9621f4",
   "metadata": {},
   "outputs": [],
   "source": [
    "def load_mnist() -> tuple[TImageBatch, TLabelBatch, TImageBatch, TLabelBatch]:\n",
    "    # Parameter setting\n",
    "    GrayLevels = 255  # Image GrayLevels\n",
    "    cats = [*range(10)]\n",
    "\n",
    "    # General variables\n",
    "    images = []  # To keep training images\n",
    "    labels = []  # To keep training labels\n",
    "    images_test = []  # To keep test images\n",
    "    labels_test = []  # To keep test labels\n",
    "\n",
    "    # loading MNIST dataset\n",
    "    mndata = MNIST(\"data/mnist/MNIST/raw/\")\n",
    "\n",
    "    Images, Labels = mndata.load_training()\n",
    "    Images = np.array(Images)\n",
    "    for i in range(len(Labels)):\n",
    "        if Labels[i] in cats:\n",
    "            images.append(\n",
    "                np.floor(\n",
    "                    (GrayLevels - Images[i].reshape(28, 28))\n",
    "                    * (num_steps - 1)\n",
    "                    / GrayLevels\n",
    "                ).astype(int)\n",
    "            )\n",
    "            labels.append(cats.index(Labels[i]))\n",
    "    Images, Labels = mndata.load_testing()\n",
    "    Images = np.array(Images)\n",
    "    for i in range(len(Labels)):\n",
    "        if Labels[i] in cats:\n",
    "            images_test.append(\n",
    "                np.floor(\n",
    "                    (GrayLevels - Images[i].reshape(28, 28))\n",
    "                    * (num_steps - 1)\n",
    "                    / GrayLevels\n",
    "                ).astype(int)\n",
    "            )\n",
    "            labels_test.append(cats.index(Labels[i]))\n",
    "\n",
    "    del Images, Labels\n",
    "\n",
    "    # images contain values within [0,num_steps]\n",
    "    images = typing.cast(TImageBatch, np.asarray(images))\n",
    "    labels = typing.cast(TLabelBatch, np.asarray(labels))\n",
    "    images_test = typing.cast(TImageBatch, np.asarray(images_test))\n",
    "    labels_test = typing.cast(TLabelBatch, np.asarray(labels_test))\n",
    "\n",
    "    return images, labels, images_test, labels_test"
   ]
  }
 ],
 "metadata": {
  "kernelspec": {
   "display_name": "smt312",
   "language": "python",
   "name": "python3"
  },
  "language_info": {
   "name": "python",
   "version": "3.12.3"
  }
 },
 "nbformat": 4,
 "nbformat_minor": 5
}
